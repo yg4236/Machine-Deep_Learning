{
  "nbformat": 4,
  "nbformat_minor": 0,
  "metadata": {
    "colab": {
      "name": "ML1st_CNN.ipynb",
      "provenance": [],
      "collapsed_sections": [],
      "include_colab_link": true
    },
    "kernelspec": {
      "name": "python3",
      "display_name": "Python 3"
    },
    "language_info": {
      "name": "python"
    }
  },
  "cells": [
    {
      "cell_type": "markdown",
      "metadata": {
        "id": "view-in-github",
        "colab_type": "text"
      },
      "source": [
        "<a href=\"https://colab.research.google.com/github/yg4236/Machine-Deep_Learning/blob/main/ML1st_CNN.ipynb\" target=\"_parent\"><img src=\"https://colab.research.google.com/assets/colab-badge.svg\" alt=\"Open In Colab\"/></a>"
      ]
    },
    {
      "cell_type": "code",
      "metadata": {
        "colab": {
          "base_uri": "https://localhost:8080/"
        },
        "id": "yEN51dMgzbOB",
        "outputId": "40296d73-17ae-4394-e908-ebf8e52b6382"
      },
      "source": [
        "import numpy as np\n",
        "from google.colab import drive\n",
        "import torch.nn as nn\n",
        "import torch.optim as optim\n",
        "drive.mount('/content/drive')"
      ],
      "execution_count": 1,
      "outputs": [
        {
          "output_type": "stream",
          "text": [
            "Mounted at /content/drive\n"
          ],
          "name": "stdout"
        }
      ]
    },
    {
      "cell_type": "code",
      "metadata": {
        "id": "VaRrp7Apzer9"
      },
      "source": [
        "X = np.empty((0, 4), dtype=int)\n",
        "import torch\n",
        "class CNN(torch.nn.Module):\n",
        "    def __init__(self):\n",
        "        super(CNN, self).__init__()\n",
        "\n",
        "        self.layer1 = torch.nn.Sequential(\n",
        "            torch.nn.Conv2d(502, 502, kernel_size=3,stride=1, padding=1),\n",
        "            torch.nn.ReLU(),\n",
        "            torch.nn.MaxPool2d(kernel_size=2, stride=2))\n",
        "\n",
        "        self.layer2 = torch.nn.Sequential(\n",
        "            torch.nn.Conv2d(502, 502, kernel_size=3,stride=2, padding=0),\n",
        "            torch.nn.ReLU())\n",
        "\n",
        "        self.layer3 = torch.nn.Sequential(\n",
        "            torch.nn.Conv2d(502, 502, kernel_size=3,stride=1, padding=0),\n",
        "            torch.nn.ReLU())\n",
        "\n",
        "        self.layer4 = torch.nn.Sequential(\n",
        "            torch.nn.Conv2d(502, 502, kernel_size=3,stride=1, padding=1),\n",
        "            torch.nn.ReLU(),\n",
        "            torch.nn.AvgPool2d(kernel_size=2, stride=2))\n",
        "\n",
        "\n",
        "        # 전결합층 \n",
        "        self.fc = torch.nn.Linear(502, 27, bias=True)\n",
        "\n",
        "        # 전결합층 한정으로 가중치 초기화\n",
        "        torch.nn.init.xavier_uniform_(self.fc.weight)\n",
        "\n",
        "    def forward(self, x):\n",
        "        global X\n",
        "        out = self.layer1(x)\n",
        "        # print(out.shape)\n",
        "        out = self.layer2(out)\n",
        "        # print(out.shape)\n",
        "        out = self.layer3(out)\n",
        "        # print(out.shape)\n",
        "        out = self.layer4(out)\n",
        "        X = np.append(X,out.detach().numpy())\n",
        "        # print(out.shape)\n",
        "        # out = self.layer5(out)\n",
        "        # print(out.shape)\n",
        "        out = out.view(out.size(0), -1)   # 전결합층을 위해서 Flatten\n",
        "        out = self.fc(out)\n",
        "        return out\n",
        "\n",
        "class BadukDataset():\n",
        "    def __init__(self, array, label):\n",
        "        super().__init__()\n",
        "        self.array = array\n",
        "        self.label = label\n",
        "        # self.transforms = transforms\n",
        "\n",
        "    def __getitem__(self, index):\n",
        "        final = self.array[index]\n",
        "        final_label = self.label[index]\n",
        "        final_label = torch.tensor(final_label,dtype=torch.long)\n",
        "        return final, final_label\n",
        "\n",
        "    def __len__(self):\n",
        "        return len(self.array)\n"
      ],
      "execution_count": null,
      "outputs": []
    },
    {
      "cell_type": "code",
      "metadata": {
        "id": "j-uJZGqpzhf5"
      },
      "source": [
        "def train(trainloader, net, criterion, optimizer):\n",
        "  running_loss = 0.0\n",
        "  for i, data in enumerate(trainloader,0):\n",
        "      inputs, labels = data  # data입력\n",
        "      optimizer.zero_grad()  # gradient 매개변수를 0으로 만듬\n",
        "      # 순전파 + 역전파 + 최적화\n",
        "      outputs = net(inputs)\n",
        "      loss = criterion(outputs, labels)\n",
        "      loss.backward()\n",
        "      optimizer.step()\n",
        "      # 통계출력\n",
        "      running_loss += loss.item()\n",
        "      if i % 200 == 199:\n",
        "          print('[%d, %5d] loss: %.3f' % (epoch + 1, i + 1, running_loss / 2000))\n",
        "          running_loss = 0.0\n",
        "\n",
        "def test(testloader, net):\n",
        "  # 전체 데이터 셋에 대한 결과 확인\n",
        "  net.eval()\n",
        "  correct = 0\n",
        "  total = 0\n",
        "  with torch.no_grad():\n",
        "      for data in testloader:\n",
        "          images, labels = data\n",
        "          outputs = net(images)\n",
        "          _, predicted = torch.max(outputs.data, 1)\n",
        "          total += labels.size(0)\n",
        "          correct += (predicted == labels).sum().item()\n",
        "  print('Accuracy of the network on the test images: %d %%' % (100*correct/total))"
      ],
      "execution_count": null,
      "outputs": []
    },
    {
      "cell_type": "code",
      "metadata": {
        "id": "lg3k8OhQzjnJ"
      },
      "source": [
        "if __name__ == '__main__':\n",
        "    device = 'cuda'\n",
        "    rating = ['18k', '17k', '16k', '15k', '14k', '13k', '12k', '11k', '10k', \n",
        "              '9k', '8k', '7k', '6k', '5k', '4k', '3k', '2k', '1k',\n",
        "              '1d', '2d', '3d', '4d', '5d', '6d', '7d', '8d', '9d']    \n",
        "    ################################### traindata 정제 ################################################\n",
        "    #load train data and label\n",
        "    train_data_path = \"/content/drive/My Drive/기계학습 1등팀/data/train_data.npy\" # Your train data file\n",
        "    train_label_path = \"/content/drive/My Drive/기계학습 1등팀/data/train_label.npy\" # Your train label file\n",
        "\n",
        "    train_data = np.load(train_data_path, allow_pickle=True)\n",
        "    train_label_rawdata = np.load(train_label_path, allow_pickle=True)  \n",
        "\n",
        "    num_train_data = len(train_data)\n",
        "\n",
        "    # Get last baduk data of all game\n",
        "    last_train_data = np.zeros( (num_train_data,502, 19,19) )\n",
        "\n",
        "    for i in range(num_train_data):\n",
        "      temp_last_data = train_data[i]\n",
        "      for j in range(len(temp_last_data)):\n",
        "        last_train_data[i, j, :] = temp_last_data[j]\n",
        "\n",
        "    # Prepare label for training SVM (character rating to integer rating)\n",
        "    train_label = np.zeros(num_train_data)\n",
        "    for i in range(num_train_data):\n",
        "      train_label_temp = train_label_rawdata[i]\n",
        "      train_label_idx = rating.index(train_label_temp)\n",
        "      train_label[i] = train_label_idx\n",
        "    \n",
        "    train_dataset = BadukDataset(last_train_data, train_label)\n",
        "    trainloader = torch.utils.data.DataLoader(train_dataset, batch_size=4, shuffle=True, num_workers=0)\n",
        "\n",
        "    ################################### testdata 정제 ################################################\n",
        "\n",
        "    # Get test data\n",
        "    test_data_path = \"/content/drive/My Drive/기계학습 1등팀/data/test_data.npy\"\n",
        "    test_data = np.load(test_data_path, allow_pickle=True)\n",
        "\n",
        "    # Get last test data\n",
        "    num_test_data = len(test_data)\n",
        "\n",
        "    last_test_data = np.zeros( (num_test_data,502, 19, 19) )\n",
        "\n",
        "    for i in range(num_test_data):\n",
        "      temp_last_data = test_data[i]\n",
        "      for j in range(len(temp_last_data)):\n",
        "        last_test_data[i, j, :] = temp_last_data[j]\n",
        "\n",
        "    test_label_path = \"/content/drive/My Drive/기계학습 1등팀/data/test_label2.npy\"\n",
        "    test_label_rawdata = np.load(test_label_path, allow_pickle=True)\n",
        "    test_label = np.zeros(num_test_data)\n",
        "\n",
        "    test_dataset = BadukDataset(last_test_data, test_label)\n",
        "    testloader = torch.utils.data.DataLoader(test_dataset, batch_size=4, shuffle=True, num_workers=0)\n",
        "\n",
        "    ################################## 학습 하는 부분 #################################################\n",
        "    net = CNN().double()\n",
        "\n",
        "    criterion = nn.CrossEntropyLoss()\n",
        "    optimizer = optim.SGD(net.parameters(), lr=0.001, momentum=0.9)\n",
        "\n",
        "    device = 'cuda' if torch.cuda.is_available() else 'cpu'\n",
        "    print (device,\"로 학습\")\n",
        "\n",
        "    # 신경망 학습하기\n",
        "    for epoch in range(40):\n",
        "        train(trainloader, net, criterion, optimizer)\n",
        "        test(testloader, net)\n",
        "        PATH = '/content/drive/MyDrive/기계학습 1등팀/data/YG/baduk_net1_%d.pth'%epoch\n",
        "        torch.save(net, PATH) \n",
        "    print('Finished Training')\n",
        "    np.save('/content/drive/MyDrive/기계학습 1등팀/data/Output_train_1.npy', X)"
      ],
      "execution_count": null,
      "outputs": []
    },
    {
      "cell_type": "code",
      "metadata": {
        "id": "KK9TGQ3z0dj4"
      },
      "source": [
        "########################################## testset feature 추출하는 부분 #######################################\n",
        "\n",
        "PATH = '/content/drive/MyDrive/기계학습 1등팀/data/baduk_net5.pth'\n",
        "net = torch.load(PATH)\n",
        "net.eval()\n",
        "\n",
        "print(len(testloader))\n",
        "for i, data in enumerate(testloader,0):\n",
        "        inputs, labels = data  # data입력\n",
        "        outputs = net(inputs)\n",
        "        print(i)\n",
        "\n",
        "np.save('/content/drive/MyDrive/기계학습1등팀/data/test_X.npy', X)"
      ],
      "execution_count": null,
      "outputs": []
    }
  ]
}