{
  "nbformat": 4,
  "nbformat_minor": 0,
  "metadata": {
    "colab": {
      "name": "ajou_2021_spring_ml_termproject (1).ipynb의 사본",
      "provenance": [],
      "toc_visible": true,
      "include_colab_link": true
    },
    "kernelspec": {
      "name": "python3",
      "display_name": "Python 3"
    },
    "language_info": {
      "name": "python"
    },
    "accelerator": "GPU"
  },
  "cells": [
    {
      "cell_type": "markdown",
      "metadata": {
        "id": "view-in-github",
        "colab_type": "text"
      },
      "source": [
        "<a href=\"https://colab.research.google.com/github/yg4236/Machine-Deep_Learning/blob/main/ajou_2021_spring_ml_termproject_(1)_ipynb%EC%9D%98_%EC%82%AC%EB%B3%B8.ipynb\" target=\"_parent\"><img src=\"https://colab.research.google.com/assets/colab-badge.svg\" alt=\"Open In Colab\"/></a>"
      ]
    },
    {
      "cell_type": "code",
      "metadata": {
        "colab": {
          "base_uri": "https://localhost:8080/"
        },
        "id": "Z1ekgDsG3f1t",
        "outputId": "ba4e6ea9-7e61-4d9c-95bd-9504bba8b369"
      },
      "source": [
        "import numpy as np\n",
        "from google.colab import drive\n",
        "\n",
        "#load train data and label\n",
        "drive.mount('/content/drive')\n",
        "train_data_path = \"/content/drive/My Drive/기계학습 1등팀/data/train_data.npy\" # Your train data file\n",
        "train_label_path = \"/content/drive/My Drive/기계학습 1등팀/data/train_label.npy\" # Your train label file\n",
        "\n",
        "train_data = np.load(train_data_path, allow_pickle=True)\n",
        "train_label_rawdata = np.load(train_label_path, allow_pickle=True)  \n",
        "\n",
        "num_train_data = len(train_data)"
      ],
      "execution_count": 1,
      "outputs": [
        {
          "output_type": "stream",
          "text": [
            "Mounted at /content/drive\n"
          ],
          "name": "stdout"
        }
      ]
    },
    {
      "cell_type": "code",
      "metadata": {
        "colab": {
          "base_uri": "https://localhost:8080/"
        },
        "id": "zi_CRigwB1Ed",
        "outputId": "01551066-efbf-4d32-ae05-8a71e67b4b05"
      },
      "source": [
        "print(train_data.shape) # train_data is a list"
      ],
      "execution_count": null,
      "outputs": [
        {
          "output_type": "stream",
          "text": [
            "(2682,)\n"
          ],
          "name": "stdout"
        }
      ]
    },
    {
      "cell_type": "code",
      "metadata": {
        "colab": {
          "base_uri": "https://localhost:8080/"
        },
        "id": "8FhEZ7YnAR-h",
        "outputId": "3dd4c0f8-e00b-48dc-c37b-0caa9f4ab983"
      },
      "source": [
        "#check data shape\n",
        "print(len(train_data[0]))\n",
        "print(train_data[0][0].shape)"
      ],
      "execution_count": null,
      "outputs": [
        {
          "output_type": "stream",
          "text": [
            "265\n",
            "(1, 19, 19)\n"
          ],
          "name": "stdout"
        }
      ]
    },
    {
      "cell_type": "code",
      "metadata": {
        "colab": {
          "base_uri": "https://localhost:8080/"
        },
        "id": "VOw8FCFHAFn9",
        "outputId": "13e4cf32-0d24-4c88-c583-148dd7b72569"
      },
      "source": [
        "print(len(train_data[1]))\n",
        "print(train_data[1][0].shape)"
      ],
      "execution_count": null,
      "outputs": [
        {
          "output_type": "stream",
          "text": [
            "245\n",
            "(1, 19, 19)\n"
          ],
          "name": "stdout"
        }
      ]
    },
    {
      "cell_type": "code",
      "metadata": {
        "colab": {
          "base_uri": "https://localhost:8080/"
        },
        "id": "9q4L1DyqB8m5",
        "outputId": "c3d2a28d-ff02-41d3-c350-c74c8d89ff53"
      },
      "source": [
        "print(len(train_data[2]))\n",
        "print(train_data[2][0].shape)"
      ],
      "execution_count": null,
      "outputs": [
        {
          "output_type": "stream",
          "text": [
            "246\n",
            "(1, 19, 19)\n"
          ],
          "name": "stdout"
        }
      ]
    },
    {
      "cell_type": "code",
      "metadata": {
        "id": "P-EJKtjVBqGa",
        "colab": {
          "base_uri": "https://localhost:8080/"
        },
        "outputId": "62a9c127-1a7d-40b6-d508-f00bb1dc0215"
      },
      "source": [
        "# Get last baduk data of first game (바둑경기 전체 수순에서 마지막 바둑판의 장면)\n",
        "teamp_last_data = train_data[0][-1]\n",
        "print(teamp_last_data) # 1 denotes a black stone. -1 denotes a white stone. 0 denotes an empty position."
      ],
      "execution_count": 2,
      "outputs": [
        {
          "output_type": "stream",
          "text": [
            "[[[ 0  0  0 -1  0  1  0  0  0  0  0  0 -1 -1 -1  1  1  0  1]\n",
            "  [ 0 -1 -1  0 -1  1 -1  1 -1 -1  0 -1  0 -1  0 -1  1  1  0]\n",
            "  [-1  0 -1 -1  1  0  1  1 -1  1 -1 -1 -1  0  0 -1  1 -1  1]\n",
            "  [ 0 -1  1  1  1  1  0  0 -1  1  1  1 -1 -1 -1  1  1 -1 -1]\n",
            "  [ 0  1  1  0  0  0  0  1 -1 -1  1  1  1  1  1  1 -1 -1  0]\n",
            "  [ 0  0  0  0  0  0  0  1  1 -1 -1  1  1 -1  1  1 -1 -1 -1]\n",
            "  [ 0  0  0  0  0  1  1 -1 -1  1 -1 -1 -1 -1  1  1  1 -1  0]\n",
            "  [ 0  0  0  0  0  1 -1  0 -1  0  1  1  0 -1 -1  1 -1  0 -1]\n",
            "  [ 0  0  1 -1 -1  1 -1  1 -1  1  0  1 -1  0  1 -1 -1  0  0]\n",
            "  [ 0  1  1  1  1 -1  0 -1  0 -1  1 -1  0 -1 -1 -1  0 -1 -1]\n",
            "  [ 0  0  1 -1 -1 -1 -1 -1 -1  0  1  0 -1  0  0  1 -1 -1  0]\n",
            "  [ 0  1  1  0  0  0 -1  0 -1  1  0  1  1  0  0  0  1 -1  0]\n",
            "  [ 0 -1  1 -1 -1 -1  1 -1  0  0  1  0  0  1  1  0  1 -1  0]\n",
            "  [ 0  0 -1  1  1  1  1  1  1  1  0  0 -1 -1  1  0  1  1 -1]\n",
            "  [-1 -1  0 -1  1  0  0  0 -1  1  0  0 -1  0 -1  1  1 -1  0]\n",
            "  [-1  1 -1 -1 -1 -1  0 -1  0 -1  1  0 -1  0 -1 -1 -1 -1 -1]\n",
            "  [ 1  0  1  1  1 -1  0  0  0  0 -1 -1 -1  0 -1  1  1 -1  1]\n",
            "  [ 0  1  0  0 -1  0  0  0  0  0  0 -1  1 -1  1  0  1  1  0]\n",
            "  [ 0  0  0  0  0  0  0  0  0  0  0  0  0  0  0 -1  0  1  1]]]\n"
          ],
          "name": "stdout"
        }
      ]
    },
    {
      "cell_type": "code",
      "metadata": {
        "id": "Xez7TS-XAS3h"
      },
      "source": [
        "# Get last baduk data of all game\n",
        "last_train_data = np.zeros( (num_train_data,1, 19,19) )\n",
        "\n",
        "for i in range(num_train_data):\n",
        "  temp_last_data = train_data[i][-1]\n",
        "  last_train_data[i, :, :] = temp_last_data"
      ],
      "execution_count": 3,
      "outputs": []
    },
    {
      "cell_type": "code",
      "metadata": {
        "id": "PYI_UzJdLlAb"
      },
      "source": [
        "# Print last_train_data shape and contents\n",
        "print(last_train_data.shape) # shape\n",
        "print(last_train_data[50]) # content of 50-th games"
      ],
      "execution_count": null,
      "outputs": []
    },
    {
      "cell_type": "code",
      "metadata": {
        "id": "bkz6ssXPQFv0"
      },
      "source": [
        "# Prepare label for training SVM\n",
        "rating = ['18k', '17k', '16k', '15k', '14k', '13k', '12k', '11k', '10k', \n",
        "          '9k', '8k', '7k', '6k', '5k', '4k', '3k', '2k', '1k',\n",
        "          '1d', '2d', '3d', '4d', '5d', '6d', '7d', '8d', '9d']"
      ],
      "execution_count": 4,
      "outputs": []
    },
    {
      "cell_type": "code",
      "metadata": {
        "id": "o8sJeN95Q4_U"
      },
      "source": [
        "# Prepare label for training SVM (character rating to integer rating)\n",
        "train_label = np.zeros(num_train_data)\n",
        "for i in range(num_train_data):\n",
        "  train_label_temp = train_label_rawdata[i]\n",
        "  train_label_idx = rating.index(train_label_temp)\n",
        "  train_label[i] = train_label_idx"
      ],
      "execution_count": 5,
      "outputs": []
    },
    {
      "cell_type": "code",
      "metadata": {
        "colab": {
          "base_uri": "https://localhost:8080/"
        },
        "id": "3i3Q-SjuSTMa",
        "outputId": "a29bafff-c8ee-497e-c4c2-e3943c3c19eb"
      },
      "source": [
        "print(len(rating))"
      ],
      "execution_count": null,
      "outputs": [
        {
          "output_type": "stream",
          "text": [
            "27\n"
          ],
          "name": "stdout"
        }
      ]
    },
    {
      "cell_type": "code",
      "metadata": {
        "id": "T5ojm7IdMTXf"
      },
      "source": [
        "# Train SVM using training data and label (This part shoud be done by ML algorithm!) --> Key part! (학생 여러분들은 여기에 머신러닝 알고리즘을 구현하면 됩니다. 가장 중요한 부분입니다.)"
      ],
      "execution_count": null,
      "outputs": []
    },
    {
      "cell_type": "code",
      "metadata": {
        "id": "1QfdMGKZ7psb"
      },
      "source": [
        "import torch\n",
        "class CNN(torch.nn.Module):\n",
        "    def __init__(self):\n",
        "        super(CNN, self).__init__()\n",
        "\n",
        "        self.layer1 = torch.nn.Sequential(\n",
        "            torch.nn.Conv2d(1, 32, kernel_size=2,stride=1, padding=1),\n",
        "            torch.nn.ReLU(),\n",
        "            torch.nn.MaxPool2d(kernel_size=2, stride=2))\n",
        "\n",
        "        self.layer2 = torch.nn.Sequential(\n",
        "            torch.nn.Conv2d(32, 128, kernel_size=2,stride=1, padding=1),\n",
        "            torch.nn.ReLU(),\n",
        "            torch.nn.MaxPool2d(kernel_size=2, stride=2))\n",
        "\n",
        "        self.layer3 = torch.nn.Sequential(\n",
        "            torch.nn.Conv2d(128, 256, kernel_size=2,stride=1, padding=1),\n",
        "            torch.nn.ReLU(),\n",
        "            torch.nn.MaxPool2d(kernel_size=2, stride=2))\n",
        "\n",
        "        self.layer4 = torch.nn.Sequential(\n",
        "            torch.nn.Conv2d(256, 516, kernel_size=2,stride=1, padding=1),\n",
        "            torch.nn.ReLU(),\n",
        "            torch.nn.MaxPool2d(kernel_size=2, stride=2))\n",
        "\n",
        "        self.layer5 = torch.nn.Sequential(\n",
        "            torch.nn.Conv2d(516, 1024, kernel_size=2,stride=1, padding=1),\n",
        "            torch.nn.ReLU(),\n",
        "            torch.nn.MaxPool2d(kernel_size=2, stride=2))\n",
        "\n",
        "\n",
        "        # 전결합층 \n",
        "        self.fc = torch.nn.Linear(1024, 27, bias=True)\n",
        "\n",
        "        # 전결합층 한정으로 가중치 초기화\n",
        "        torch.nn.init.xavier_uniform_(self.fc.weight)\n",
        "\n",
        "    def forward(self, x):\n",
        "        out = self.layer1(x)\n",
        "        # print(out.shape)\n",
        "        out = self.layer2(out)\n",
        "        # print(out.shape)\n",
        "        out = self.layer3(out)\n",
        "        # print(out.shape)\n",
        "        out = self.layer4(out)\n",
        "        # print(out.shape)\n",
        "        out = self.layer5(out)\n",
        "        # print(out.shape)\n",
        "        out = out.view(out.size(0), -1)   # 전결합층을 위해서 Flatten\n",
        "        out = self.fc(out)\n",
        "        return out\n",
        "\n",
        "class BadukDataset():\n",
        "    def __init__(self, array, label):\n",
        "        super().__init__()\n",
        "        self.array = array\n",
        "        self.label = label\n",
        "        # self.transforms = transforms\n",
        "\n",
        "    def __getitem__(self, index):\n",
        "        final = self.array[index]\n",
        "        final_label = self.label[index]\n",
        "        final_label = torch.tensor(final_label,dtype=torch.long)\n",
        "        return final, final_label\n",
        "\n",
        "    def __len__(self):\n",
        "        return len(self.array)\n",
        "\n",
        "train_dataset = BadukDataset(last_train_data, train_label)\n",
        "trainloader = torch.utils.data.DataLoader(train_dataset, batch_size=4, shuffle=True, num_workers=0)"
      ],
      "execution_count": 6,
      "outputs": []
    },
    {
      "cell_type": "code",
      "metadata": {
        "colab": {
          "base_uri": "https://localhost:8080/"
        },
        "id": "QBWCEsGRBV-1",
        "outputId": "9be1833e-33d4-4c90-ab03-4369eb741ed1"
      },
      "source": [
        "import torch.nn as nn\n",
        "import torch.optim as optim\n",
        "net = CNN().double()\n",
        "\n",
        "criterion = nn.CrossEntropyLoss()\n",
        "optimizer = optim.SGD(net.parameters(), lr=0.001, momentum=0.9)\n",
        "device = 'cuda'\n",
        "# device = 'cuda' if torch.cuda.is_available() else 'cpu'\n",
        "print (device,\"로 학습\")\n",
        "\n",
        "# 신경망 학습하기\n",
        "for epoch in range(50):\n",
        "    running_loss = 0.0\n",
        "    for i, data in enumerate(trainloader,0):\n",
        "        inputs, labels = data  # data입력\n",
        "        optimizer.zero_grad()  # gradient 매개변수를 0으로 만듬\n",
        "        # 순전파 + 역전파 + 최적화\n",
        "        outputs = net(inputs)\n",
        "        loss = criterion(outputs, labels)\n",
        "        loss.backward()\n",
        "        optimizer.step()\n",
        "        # 통계출력\n",
        "        running_loss += loss.item()\n",
        "        if i % 200 == 199:\n",
        "            print('[%d, %5d] loss: %.3f' % (epoch + 1, i + 1, running_loss / 2000))\n",
        "            running_loss = 0.0\n",
        "print('Finished Training')\n",
        "PATH = './baduk_net4.pth'\n",
        "torch.save(net, PATH)"
      ],
      "execution_count": null,
      "outputs": [
        {
          "output_type": "stream",
          "text": [
            "cuda 로 학습\n",
            "[1,   200] loss: 0.330\n",
            "[1,   400] loss: 0.330\n"
          ],
          "name": "stdout"
        }
      ]
    },
    {
      "cell_type": "code",
      "metadata": {
        "id": "FEtVo84XMTb8"
      },
      "source": [
        "# Get test data\n",
        "test_data_path = \"/content/drive/My Drive/기계학습 1등팀/data/test_data.npy\"\n",
        "test_data = np.load(test_data_path, allow_pickle=True)"
      ],
      "execution_count": 8,
      "outputs": []
    },
    {
      "cell_type": "code",
      "metadata": {
        "id": "G6dHGtCZMTg3"
      },
      "source": [
        "# Get last test data\n",
        "num_test_data = len(test_data)\n",
        "\n",
        "last_test_data = np.zeros( (num_test_data,1, 19, 19) )\n",
        "\n",
        "for i in range(num_test_data):\n",
        "  temp_last_data = test_data[i][-1]\n",
        "  last_test_data[i, :, :] = temp_last_data\n"
      ],
      "execution_count": 9,
      "outputs": []
    },
    {
      "cell_type": "code",
      "metadata": {
        "id": "xYlAaHv3LlHn"
      },
      "source": [
        "# Predict test labels\n",
        "ts_last_test_data = torch.tensor(last_test_data)\n",
        "outputs = net(ts_last_test_data)\n",
        "_, predicted =torch.max(outputs, 1)\n"
      ],
      "execution_count": 10,
      "outputs": []
    },
    {
      "cell_type": "code",
      "metadata": {
        "id": "bthd7vH5acMG"
      },
      "source": [
        "# Get test labels (student does not have this ground-truth of test data)\n",
        "test_label_path = \"/content/drive/My Drive/기계학습 1등팀/data/test_label2.npy\"\n",
        "test_label_rawdata = np.load(test_label_path, allow_pickle=True)\n",
        "test_label = np.zeros(num_test_data)\n",
        "for i in range(num_test_data):\n",
        "  test_label_temp = test_label_rawdata[i]\n",
        "  test_label_idx = rating.index(test_label_temp)\n",
        "  test_label[i] = test_label_idx"
      ],
      "execution_count": 12,
      "outputs": []
    },
    {
      "cell_type": "code",
      "metadata": {
        "colab": {
          "base_uri": "https://localhost:8080/"
        },
        "id": "R9t7eKT_cbJO",
        "outputId": "50ab44fe-2f03-4720-e6d2-e85a93cff35c"
      },
      "source": [
        "test_dataset = BadukDataset(ts_last_test_data, test_label)\n",
        "testloader = torch.utils.data.DataLoader(test_dataset, batch_size=4, shuffle=True, num_workers=0)\n",
        "PATH = './baduk_net4.pth'\n",
        "net = torch.load(PATH)\n",
        "net.eval()"
      ],
      "execution_count": 13,
      "outputs": [
        {
          "output_type": "execute_result",
          "data": {
            "text/plain": [
              "CNN(\n",
              "  (layer1): Sequential(\n",
              "    (0): Conv2d(1, 32, kernel_size=(2, 2), stride=(1, 1), padding=(1, 1))\n",
              "    (1): ReLU()\n",
              "    (2): MaxPool2d(kernel_size=2, stride=2, padding=0, dilation=1, ceil_mode=False)\n",
              "  )\n",
              "  (layer2): Sequential(\n",
              "    (0): Conv2d(32, 128, kernel_size=(2, 2), stride=(1, 1), padding=(1, 1))\n",
              "    (1): ReLU()\n",
              "    (2): MaxPool2d(kernel_size=2, stride=2, padding=0, dilation=1, ceil_mode=False)\n",
              "  )\n",
              "  (layer3): Sequential(\n",
              "    (0): Conv2d(128, 256, kernel_size=(2, 2), stride=(1, 1), padding=(1, 1))\n",
              "    (1): ReLU()\n",
              "    (2): MaxPool2d(kernel_size=2, stride=2, padding=0, dilation=1, ceil_mode=False)\n",
              "  )\n",
              "  (layer4): Sequential(\n",
              "    (0): Conv2d(256, 516, kernel_size=(2, 2), stride=(1, 1), padding=(1, 1))\n",
              "    (1): ReLU()\n",
              "    (2): MaxPool2d(kernel_size=2, stride=2, padding=0, dilation=1, ceil_mode=False)\n",
              "  )\n",
              "  (layer5): Sequential(\n",
              "    (0): Conv2d(516, 1024, kernel_size=(2, 2), stride=(1, 1), padding=(1, 1))\n",
              "    (1): ReLU()\n",
              "    (2): MaxPool2d(kernel_size=2, stride=2, padding=0, dilation=1, ceil_mode=False)\n",
              "  )\n",
              "  (fc): Linear(in_features=1024, out_features=27, bias=True)\n",
              ")"
            ]
          },
          "metadata": {
            "tags": []
          },
          "execution_count": 13
        }
      ]
    },
    {
      "cell_type": "code",
      "metadata": {
        "colab": {
          "base_uri": "https://localhost:8080/"
        },
        "id": "kAXEtkQOTqKd",
        "outputId": "9f0c44d3-7e74-4618-c931-26f9f8e7540d"
      },
      "source": [
        "# 전체 데이터 셋에 대한 결과 확인\n",
        "correct = 0\n",
        "total = 0\n",
        "with torch.no_grad():\n",
        "    for data in testloader:\n",
        "        images, labels = data\n",
        "        outputs = net(images)\n",
        "        _, predicted = torch.max(outputs.data, 1)\n",
        "        correct += (predicted == labels).sum().item()\n",
        "print('Accuracy on test data : %f ' % (correct/len(test_label)))"
      ],
      "execution_count": 14,
      "outputs": [
        {
          "output_type": "stream",
          "text": [
            "Accuracy on test data : 0.061338 \n"
          ],
          "name": "stdout"
        }
      ]
    },
    {
      "cell_type": "markdown",
      "metadata": {
        "id": "RhL6RaN3AElN"
      },
      "source": [
        "# 새 섹션"
      ]
    }
  ]
}